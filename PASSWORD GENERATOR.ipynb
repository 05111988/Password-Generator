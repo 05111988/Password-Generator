{
 "cells": [
  {
   "cell_type": "code",
   "execution_count": 2,
   "id": "8ca6bae0-5a94-4943-a2c7-6aa83ae1b601",
   "metadata": {},
   "outputs": [
    {
     "name": "stdout",
     "output_type": "stream",
     "text": [
      "Apple\n",
      "Applepie\n",
      "Peach\n",
      "Peachpie\n",
      "Pear\n",
      "Pearpie\n"
     ]
    }
   ],
   "source": [
    "fruits = [\"Apple\" , \"Peach\" , \"Pear\"]\n",
    "for fruit in fruits:\n",
    "    print(fruit)\n",
    "    print(fruit + \"pie\")"
   ]
  },
  {
   "cell_type": "code",
   "execution_count": 2,
   "id": "1676ef39-7bc9-4048-b8ff-f5ac5c514f94",
   "metadata": {},
   "outputs": [
    {
     "name": "stdout",
     "output_type": "stream",
     "text": [
      "768\n"
     ]
    }
   ],
   "source": [
    "student_scores = [150 , 142 , 185, 120, 171]\n",
    "total_score = sum(student_scores)\n",
    "print(total_score)"
   ]
  },
  {
   "cell_type": "code",
   "execution_count": 4,
   "id": "7b3fa2e2-86af-48ee-8472-a26521c108a7",
   "metadata": {},
   "outputs": [
    {
     "name": "stdout",
     "output_type": "stream",
     "text": [
      "768\n"
     ]
    }
   ],
   "source": [
    "student_scores = [150 , 142 , 185, 120, 171]\n",
    "sum = 0\n",
    "for score in student_scores:\n",
    "    sum += score\n",
    "\n",
    "print(sum)"
   ]
  },
  {
   "cell_type": "code",
   "execution_count": 5,
   "id": "c51d9151-5319-447a-8887-69d1d9e1b341",
   "metadata": {},
   "outputs": [
    {
     "name": "stdout",
     "output_type": "stream",
     "text": [
      "185\n"
     ]
    }
   ],
   "source": [
    "student_scores = [150 , 142 , 185, 120, 171]\n",
    "max_score = 0\n",
    "for score in student_scores:\n",
    "    if score > max_score:\n",
    "        max_score = score\n",
    "print(max_score)"
   ]
  },
  {
   "cell_type": "code",
   "execution_count": 6,
   "id": "92351d85-f9d0-4ebe-bd31-da3ed5727b51",
   "metadata": {},
   "outputs": [
    {
     "name": "stdout",
     "output_type": "stream",
     "text": [
      "5050\n"
     ]
    }
   ],
   "source": [
    "# adding number from 1 to 100 by using for loop with range function\n",
    "total = 0\n",
    "for number in range(1,101):\n",
    "    total += number\n",
    "print(total)\n"
   ]
  },
  {
   "cell_type": "code",
   "execution_count": 12,
   "id": "fa542844-3343-4d57-bf58-658d7498709f",
   "metadata": {},
   "outputs": [
    {
     "name": "stdout",
     "output_type": "stream",
     "text": [
      "Welcome to the PyPassword Generator.\n"
     ]
    },
    {
     "name": "stdin",
     "output_type": "stream",
     "text": [
      "How many letters would you like in your password? 4\n",
      "How many numbers would you like in your password? 2\n",
      "How many numbers would you like in your password? 2\n"
     ]
    },
    {
     "name": "stdout",
     "output_type": "stream",
     "text": [
      "DaEK70%!\n"
     ]
    }
   ],
   "source": [
    "import random\n",
    "letters = [\"a\", \"b\", \"c\", \"d\", \"e\", \"f\", \"g\" \"h\", \"i\", \"j\", \"k\", \"l\", \"m\", \"n\", \"o\", \"p\", \"q\", \"r\", \"s\", \"t\", \"u\", \"v\", \"w\", \"x\", \"y\", \"z\", \"A\", \"B\", \"C\", \"D\", \"E\", \"F\", \"G\", \"H\", \"I\", \"J\", \"K\", \"L\", \"M\", \"N\", \"O\", \"P\", \"Q\", \"R\", \"S\", \"T\", \"U\", \"V\", \"W\", \"X\", \"Y\", \"Z\"]\n",
    "numbers = [\"0\", \"1\", \"2\", \"3\", \"4\", \"5\", \"6\", \"7\", \"8\", \"9\"]\n",
    "symbols = [\"!\",\"@\", \"#\", \"$\", \"%\", \"^\", \"&\", \"*\", \"(\",\")\", \"+\"]\n",
    "print(\"Welcome to the PyPassword Generator.\")\n",
    "nr_letters = int(input(\"How many letters would you like in your password?\"))\n",
    "nr_numbers = int(input(\"How many numbers would you like in your password?\"))\n",
    "nr_symbols = int(input(\"How many numbers would you like in your password?\"))\n",
    "\n",
    "# easy level\n",
    "password = \"\"\n",
    "for char in range(0, nr_letters):\n",
    "    password += random.choice(letters)\n",
    "\n",
    "for char in range(0, nr_numbers):\n",
    "    password += random.choice(numbers)\n",
    "\n",
    "for char in range(0, nr_symbols):\n",
    "    password += random.choice(symbols)\n",
    "\n",
    "print(password)\n",
    "\n",
    "        "
   ]
  },
  {
   "cell_type": "code",
   "execution_count": 19,
   "id": "18a69338-2f69-4c55-ae18-745089dd800b",
   "metadata": {},
   "outputs": [
    {
     "name": "stdout",
     "output_type": "stream",
     "text": [
      "Welcome to the PyPassword Generator.\n"
     ]
    },
    {
     "name": "stdin",
     "output_type": "stream",
     "text": [
      "How many letters would you like in your password?\n",
      " 4\n",
      "How many numbers would you like in your password?\n",
      " 4\n",
      "How many numbers would you like in your password?\n",
      " 4\n"
     ]
    },
    {
     "name": "stdout",
     "output_type": "stream",
     "text": [
      "['b', 'B', 'Z', 'M', '4', '0', '2', '6', '(', '(', '!', '(']\n",
      "['4', '(', '(', '6', 'M', '(', 'Z', 'b', 'B', '0', '2', '!']\n",
      "Your password is: 4((6M(ZbB02!\n"
     ]
    }
   ],
   "source": [
    "import random\n",
    "letters = [\"a\", \"b\", \"c\", \"d\", \"e\", \"f\", \"g\" \"h\", \"i\", \"j\", \"k\", \"l\", \"m\", \"n\", \"o\", \"p\", \"q\", \"r\", \"s\", \"t\", \"u\", \"v\", \"w\", \"x\", \"y\", \"z\", \"A\", \"B\", \"C\", \"D\", \"E\", \"F\", \"G\", \"H\", \"I\", \"J\", \"K\", \"L\", \"M\", \"N\", \"O\", \"P\", \"Q\", \"R\", \"S\", \"T\", \"U\", \"V\", \"W\", \"X\", \"Y\", \"Z\"]\n",
    "numbers = [\"0\", \"1\", \"2\", \"3\", \"4\", \"5\", \"6\", \"7\", \"8\", \"9\"]\n",
    "symbols = [\"!\",\"@\", \"#\", \"$\", \"%\", \"^\", \"&\", \"*\", \"(\",\")\", \"+\"]\n",
    "print(\"Welcome to the PyPassword Generator.\")\n",
    "nr_letters = int(input(\"How many letters would you like in your password?\\n\"))\n",
    "nr_numbers = int(input(\"How many numbers would you like in your password?\\n\"))\n",
    "nr_symbols = int(input(\"How many numbers would you like in your password?\\n\"))\n",
    "\n",
    "# Hard  level\n",
    "password_list = []\n",
    "for char in range(0, nr_letters):\n",
    "    password_list.append(random.choice(letters))\n",
    "\n",
    "for char in range(0, nr_numbers):\n",
    "    password_list.append(random.choice(numbers))\n",
    "\n",
    "for char in range(0, nr_symbols):\n",
    "    password_list.append(random.choice(symbols))\n",
    "\n",
    "print(password_list)\n",
    "random.shuffle(password_list)\n",
    "print(password_list)\n",
    "\n",
    "password = \"\"\n",
    "for char in password_list:\n",
    "    password += char\n",
    "\n",
    "print(f\"Your password is: {password}\")"
   ]
  },
  {
   "cell_type": "code",
   "execution_count": null,
   "id": "e7c305f9-ac40-4cab-8ae0-fe65c95d8b36",
   "metadata": {},
   "outputs": [],
   "source": []
  }
 ],
 "metadata": {
  "kernelspec": {
   "display_name": "Python 3 (ipykernel)",
   "language": "python",
   "name": "python3"
  },
  "language_info": {
   "codemirror_mode": {
    "name": "ipython",
    "version": 3
   },
   "file_extension": ".py",
   "mimetype": "text/x-python",
   "name": "python",
   "nbconvert_exporter": "python",
   "pygments_lexer": "ipython3",
   "version": "3.13.3"
  }
 },
 "nbformat": 4,
 "nbformat_minor": 5
}
